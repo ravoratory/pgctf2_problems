{
  "nbformat": 4,
  "nbformat_minor": 0,
  "metadata": {
    "colab": {
      "provenance": []
    },
    "kernelspec": {
      "name": "python3",
      "display_name": "Python 3"
    },
    "language_info": {
      "name": "python"
    },
    "info": {
      "flag": "pgctf{metadata_on_ipynb}"
    }
  },
  "cells": [
    {
      "cell_type": "code",
      "execution_count": null,
      "metadata": {
        "id": "JgvbZkATXNZO"
      },
      "outputs": [],
      "source": [
        "print(\"Enjoy the PGCTF2!\")"
      ]
    }
  ]
}